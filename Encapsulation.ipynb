{
  "cells": [
    {
      "cell_type": "markdown",
      "metadata": {
        "id": "N1eTYLKka1bX"
      },
      "source": [
        "#####**Lecture No.30 Encapsulation**"
      ]
    },
    {
      "cell_type": "markdown",
      "metadata": {
        "id": "axtZ7MoOe0q7"
      },
      "source": [
        "*  **Class revision**\n",
        "*  **When we create the cuntructor the 1st argument inside the constructor is always be pointer**"
      ]
    },
    {
      "cell_type": "code",
      "execution_count": null,
      "metadata": {
        "id": "j0mYPqLWawgD"
      },
      "outputs": [],
      "source": [
        "class new :\n",
        "  def __init__(self , current_year , b , birth_year , d ) :\n",
        "    self.current_year = current_year\n",
        "    self.b = b\n",
        "    self.birth_year = birth_year\n",
        "    self.d = d \n",
        "  \n",
        "  def age( self ) :\n",
        "    total_age = self.current_year - self.birth_year\n",
        "    if total_age > 18 :\n",
        "      return \"yes he is eligible\"\n",
        "    else :\n",
        "      return \"no he is not eligible\"\n",
        "  \n",
        "  def __str__(c) :\n",
        "    return \"hellow this id the use of __str__() function \"\n",
        "    # __str__() function is just used to print string. \n"
      ]
    },
    {
      "cell_type": "code",
      "execution_count": null,
      "metadata": {
        "id": "MD36jGVefcTS"
      },
      "outputs": [],
      "source": [
        "obj1 = new(2023 , 78 , 2005 , 99 )"
      ]
    },
    {
      "cell_type": "code",
      "execution_count": null,
      "metadata": {
        "colab": {
          "base_uri": "https://localhost:8080/",
          "height": 36
        },
        "id": "GIdqm98riMuu",
        "outputId": "0e1bce63-e75e-4564-f803-bd9d3bd94020"
      },
      "outputs": [
        {
          "output_type": "execute_result",
          "data": {
            "text/plain": [
              "'no he is not eligible'"
            ],
            "application/vnd.google.colaboratory.intrinsic+json": {
              "type": "string"
            }
          },
          "metadata": {},
          "execution_count": 3
        }
      ],
      "source": [
        "obj1.age()"
      ]
    },
    {
      "cell_type": "code",
      "execution_count": null,
      "metadata": {
        "colab": {
          "base_uri": "https://localhost:8080/",
          "height": 36
        },
        "id": "9vEt_WOsiX_N",
        "outputId": "bda88d5e-a50f-4711-90c8-30a0c708fe51"
      },
      "outputs": [
        {
          "output_type": "execute_result",
          "data": {
            "text/plain": [
              "'hellow this id the use of __str__() function '"
            ],
            "application/vnd.google.colaboratory.intrinsic+json": {
              "type": "string"
            }
          },
          "metadata": {},
          "execution_count": 4
        }
      ],
      "source": [
        "obj1.__str__()"
      ]
    },
    {
      "cell_type": "code",
      "execution_count": null,
      "metadata": {
        "colab": {
          "base_uri": "https://localhost:8080/"
        },
        "id": "0w7TUUVjieae",
        "outputId": "aee7a02e-f8e5-4a3f-955f-09de36c8b1b7"
      },
      "outputs": [
        {
          "output_type": "stream",
          "name": "stdout",
          "text": [
            "hellow this id the use of __str__() function \n"
          ]
        }
      ],
      "source": [
        "print(obj1)"
      ]
    },
    {
      "cell_type": "code",
      "execution_count": null,
      "metadata": {
        "id": "bJlLnRdymnmz"
      },
      "outputs": [],
      "source": [
        "class Student :\n",
        "\n",
        "  def __init__(self , name , roll_no , joining_date , current_topic) :\n",
        "    self.name = name\n",
        "    self.roll_no = roll_no \n",
        "    self.joining_date = joining_date \n",
        "    self.current_topic = current_topic \n",
        "\n",
        "  def cu_topic(self) :\n",
        "    print(\"This is the current topic \" , self.current_topic)\n",
        "\n",
        "  def str_roll_no (self) :\n",
        "    \n",
        "    \n",
        "    try :\n",
        "        if type(self.roll_no) == str :\n",
        "          print(\"do nothing\")\n",
        "        else :\n",
        "          return str(self.roll_no)\n",
        "    \n",
        "    except Exception as e :\n",
        "      print(\"this is the error \" , e )\n",
        "\n",
        "  def duration(self , current_date) :\n",
        "    print(\"This is the duartion of student class \" , current_date - self.joining_date , \"year\")\n",
        "\n",
        "  def __str__(self) :\n",
        "    return \"This is the details of the student\"\n"
      ]
    },
    {
      "cell_type": "code",
      "execution_count": null,
      "metadata": {
        "id": "JbCxNFh2RGgP"
      },
      "outputs": [],
      "source": [
        "    obj1 = Student(\"mahendra\" , 1999 , 2004 , \"Python\")"
      ]
    },
    {
      "cell_type": "code",
      "execution_count": null,
      "metadata": {
        "colab": {
          "base_uri": "https://localhost:8080/"
        },
        "id": "7c9iQvC3S0D_",
        "outputId": "1e8526dc-e61c-4abc-caf0-43755ab62722"
      },
      "outputs": [
        {
          "output_type": "stream",
          "name": "stdout",
          "text": [
            "This is the details of the student\n"
          ]
        }
      ],
      "source": [
        "print(obj1)"
      ]
    },
    {
      "cell_type": "code",
      "execution_count": null,
      "metadata": {
        "colab": {
          "base_uri": "https://localhost:8080/"
        },
        "id": "4dvHzvliRYe_",
        "outputId": "3be91ec8-7a38-4479-d01a-4bf24ec097e4"
      },
      "outputs": [
        {
          "output_type": "stream",
          "name": "stdout",
          "text": [
            "This is the current topic  Python\n"
          ]
        }
      ],
      "source": [
        "obj1.cu_topic()"
      ]
    },
    {
      "cell_type": "code",
      "execution_count": null,
      "metadata": {
        "colab": {
          "base_uri": "https://localhost:8080/",
          "height": 36
        },
        "id": "aYmdgWe5RinI",
        "outputId": "5a288488-e051-4a26-9097-ae6bd9169285"
      },
      "outputs": [
        {
          "output_type": "execute_result",
          "data": {
            "text/plain": [
              "'1999'"
            ],
            "application/vnd.google.colaboratory.intrinsic+json": {
              "type": "string"
            }
          },
          "metadata": {},
          "execution_count": 10
        }
      ],
      "source": [
        "\n",
        "obj1.str_roll_no()"
      ]
    },
    {
      "cell_type": "code",
      "execution_count": null,
      "metadata": {
        "colab": {
          "base_uri": "https://localhost:8080/"
        },
        "id": "FkulWtfGRong",
        "outputId": "6ad36dd5-8c38-4749-8b6c-1a9a64361f5d"
      },
      "outputs": [
        {
          "output_type": "stream",
          "name": "stdout",
          "text": [
            "This is the duartion of student class  18 year\n"
          ]
        }
      ],
      "source": [
        "obj1.duration(2022)"
      ]
    },
    {
      "cell_type": "markdown",
      "metadata": {
        "id": "ialjtGKBuWp4"
      },
      "source": [
        "\n",
        "\n",
        "---\n",
        "\n"
      ]
    },
    {
      "cell_type": "code",
      "execution_count": null,
      "metadata": {
        "id": "wP1IYFRmR0Fo"
      },
      "outputs": [],
      "source": [
        "class calculator :\n",
        "    \n",
        "    def mul(self , a, b ) :\n",
        "      return a * b \n",
        "    \n",
        "    def sub(self , a , b ):\n",
        "      return a-b\n",
        "    \n",
        "    def add(self , a , b ):\n",
        "      return a+b\n",
        "    \n",
        "    def divide(self , a, b ):\n",
        "      return a / b \n"
      ]
    },
    {
      "cell_type": "code",
      "execution_count": null,
      "metadata": {
        "id": "dhMPvgoGvmfr"
      },
      "outputs": [],
      "source": [
        "obj2 = calculator()"
      ]
    },
    {
      "cell_type": "code",
      "source": [
        "obj2.mul(443,34)"
      ],
      "metadata": {
        "colab": {
          "base_uri": "https://localhost:8080/"
        },
        "id": "UAkfgiMhcN1O",
        "outputId": "e6a00b42-55d5-43cb-e272-a10a7b9051c5"
      },
      "execution_count": null,
      "outputs": [
        {
          "output_type": "execute_result",
          "data": {
            "text/plain": [
              "15062"
            ]
          },
          "metadata": {},
          "execution_count": 28
        }
      ]
    },
    {
      "cell_type": "code",
      "source": [
        "# Default Constructor\n",
        "\n",
        "class constructor :\n",
        "# In this class we are not created the constructor but python will create it internally which is not shown to us \n",
        "# this is called the default constructor\n",
        "  def solo(self) :\n",
        "    print(\"hello your the best\")"
      ],
      "metadata": {
        "id": "878Xp0I0cSF-"
      },
      "execution_count": null,
      "outputs": []
    },
    {
      "cell_type": "code",
      "source": [
        "obj2 = constructor()"
      ],
      "metadata": {
        "id": "uVtIJAOqiCci"
      },
      "execution_count": null,
      "outputs": []
    },
    {
      "cell_type": "code",
      "source": [
        "obj2.solo()"
      ],
      "metadata": {
        "colab": {
          "base_uri": "https://localhost:8080/"
        },
        "id": "zqWEzgg3iQbz",
        "outputId": "021c383f-2a5c-4ba1-aa0e-3a4e38cbc239"
      },
      "execution_count": null,
      "outputs": [
        {
          "output_type": "stream",
          "name": "stdout",
          "text": [
            "hello your the best\n"
          ]
        }
      ]
    },
    {
      "cell_type": "code",
      "source": [
        "# Non parameterized constructor.\n",
        "class non_para_cons :\n",
        "  \n",
        "  def __init__(self) :\n",
        "    self.name = \"mahendra\"\n",
        "    self.sirname = \"gharad\"\n",
        "    self.branding = \"patil\"\n",
        "\n",
        "  def show(self) :\n",
        "    print(\"My name is\" , self.name , self.sirname , self.branding)"
      ],
      "metadata": {
        "id": "ZuVwInB9iXz7"
      },
      "execution_count": null,
      "outputs": []
    },
    {
      "cell_type": "code",
      "source": [
        "obj3 = non_para_cons()"
      ],
      "metadata": {
        "id": "f55KR9XrkkTV"
      },
      "execution_count": null,
      "outputs": []
    },
    {
      "cell_type": "code",
      "source": [
        "obj3.show()"
      ],
      "metadata": {
        "colab": {
          "base_uri": "https://localhost:8080/"
        },
        "id": "IACl7IJtkoS6",
        "outputId": "2803bb13-492e-41fd-f671-5df0c83bf0d4"
      },
      "execution_count": null,
      "outputs": [
        {
          "output_type": "stream",
          "name": "stdout",
          "text": [
            "My name is mahendra gharad patil\n"
          ]
        }
      ]
    },
    {
      "cell_type": "code",
      "source": [
        "#  parameterized constructor.\n",
        "class para_cons :\n",
        "  \n",
        "  def __init__(self , name , sirname , branding ) :\n",
        "    self.name = name \n",
        "    self.sirname = sirname \n",
        "    self.branding = branding \n",
        "\n",
        "  def show(self) :\n",
        "    print(\"My name is\" , self.name , self.sirname , self.branding)"
      ],
      "metadata": {
        "id": "pjl6xGsxkrdp"
      },
      "execution_count": null,
      "outputs": []
    },
    {
      "cell_type": "code",
      "source": [
        "obj1 = para_cons(\"mahendra\" , \"gharad\" , \"patil\")"
      ],
      "metadata": {
        "id": "GaiItk2Vmjs-"
      },
      "execution_count": null,
      "outputs": []
    },
    {
      "cell_type": "code",
      "source": [
        "obj1.show()"
      ],
      "metadata": {
        "colab": {
          "base_uri": "https://localhost:8080/"
        },
        "id": "10Vk4hmNmt9F",
        "outputId": "64d4ea44-3aaa-447a-b1b0-acd1f5517494"
      },
      "execution_count": null,
      "outputs": [
        {
          "output_type": "stream",
          "name": "stdout",
          "text": [
            "My name is mahendra gharad patil\n"
          ]
        }
      ]
    },
    {
      "cell_type": "markdown",
      "source": [
        "**We can access methods which we created inside the class bu using 'MODIFIERS'**\n",
        "\n",
        "**Here we have three types of modifiers**\n",
        "\n",
        "*  Private \n",
        "*  Public\n",
        "*  Protected \n",
        "\n",
        "**Protected :**\n",
        "*  Example for protected mode \n",
        "*  self.name = _name := Where there is ( _ ) underscore is present we declare it as protected member \n",
        "*  We can access this protected member within a class and its subclasses \n",
        "\n",
        "**Private :**\n",
        "*  Example for private mode \n",
        "*  self.name = __name := Where there is double underscore is present we declare it as private member of the class.\n",
        "*  We can access private members only within a class\n",
        "\n",
        "* By using private and protected mode we can hide the certain variables.\n",
        "\n",
        "**Public :**\n",
        "*  When we declare the variables as public then we will able to access those elements or methods inside the classs or as well as outside the class."
      ],
      "metadata": {
        "id": "ILbuusi_oR9t"
      }
    },
    {
      "cell_type": "markdown",
      "source": [
        "#####**Encapsulation**\n",
        "\n",
        "*  **What does this incspsulation is mean that we can grouping all the methods and instance variable in the single class that is called incapsulation**\n",
        "\n",
        "*  It is used to bundle methods attributes and variables in single unit or class.\n",
        "*  We use the modifiers to encapsulate the data.\n",
        "*  We use encapsulation to work independently.\n",
        "*  we use encapsulation to hide the data.\n",
        "\n",
        "\n",
        "---\n",
        " \n",
        "                   Own class    Derived Class    Object \n",
        "\n",
        "* Protect ---->  yes --------------> No ----------------> No          \n",
        "\n",
        "* Private ----->  yes -------------> No -----------------> No  \n",
        "\n",
        "* Public  ------>  yes -------------> yes -----------------> yes  "
      ],
      "metadata": {
        "id": "oa9J7oIpsOi-"
      }
    },
    {
      "cell_type": "code",
      "source": [
        "class rectangle :\n",
        "  __length = 0\n",
        "  __breath = 0 \n",
        "\n",
        "  def __init__(self) :\n",
        "    self.__length = length = 5\n",
        "    self.__breath = breath = 9\n",
        "\n",
        "    print(self.__length)\n",
        "    print(self.__breath)\n",
        "\n",
        "    # Method to access the private variables of class by creating a method \n",
        "  def show(self) :\n",
        "    print(\"This is the private variables of the above class : \" , self.__breath)\n",
        "    # We can just use the private variables within the class."
      ],
      "metadata": {
        "id": "EQoxU3m6xPnX"
      },
      "execution_count": null,
      "outputs": []
    },
    {
      "cell_type": "code",
      "source": [
        "obj2 = rectangle()"
      ],
      "metadata": {
        "colab": {
          "base_uri": "https://localhost:8080/"
        },
        "id": "-pP3GGOe1CoI",
        "outputId": "06a63a16-5ddc-4df9-dcb1-b5aed824b63c"
      },
      "execution_count": null,
      "outputs": [
        {
          "output_type": "stream",
          "name": "stdout",
          "text": [
            "5\n",
            "9\n"
          ]
        }
      ]
    },
    {
      "cell_type": "code",
      "source": [
        "obj2.show()"
      ],
      "metadata": {
        "colab": {
          "base_uri": "https://localhost:8080/"
        },
        "id": "5KiOzgd21KBG",
        "outputId": "0476a330-527a-48f4-8221-7325822c99a0"
      },
      "execution_count": null,
      "outputs": [
        {
          "output_type": "stream",
          "name": "stdout",
          "text": [
            "This is the private variables of the above class :  9\n"
          ]
        }
      ]
    },
    {
      "cell_type": "code",
      "source": [
        "# How to access private variables ouside the class \n",
        "# This is called data mingling\n",
        "obj1._rectangle__breath"
      ],
      "metadata": {
        "colab": {
          "base_uri": "https://localhost:8080/"
        },
        "id": "znO1RHL_1N52",
        "outputId": "8f2cd10c-8f43-4886-b5c5-a23d3cf71893"
      },
      "execution_count": null,
      "outputs": [
        {
          "output_type": "execute_result",
          "data": {
            "text/plain": [
              "9"
            ]
          },
          "metadata": {},
          "execution_count": 27
        }
      ]
    },
    {
      "cell_type": "markdown",
      "source": [
        "**By creating a separate method and by using name mangling we can access the private elements of the class**"
      ],
      "metadata": {
        "id": "HfaAv5cW6K5s"
      }
    },
    {
      "cell_type": "code",
      "source": [
        "class modf() :\n",
        "  def __init__(self , a , _b , __c) :\n",
        "    self.a = a\n",
        "    self._b = _b \n",
        "    self.__c = __c\n",
        "\n",
        "    print(\"private :\" ,self.a , \"public :\" , self._b , \"public :\" , self.__c)"
      ],
      "metadata": {
        "id": "eyWblZJ533jk"
      },
      "execution_count": null,
      "outputs": []
    },
    {
      "cell_type": "code",
      "source": [
        "obj3 = modf(12,23,34) "
      ],
      "metadata": {
        "colab": {
          "base_uri": "https://localhost:8080/"
        },
        "id": "IDvnxq7jT3Xq",
        "outputId": "a6676edc-beff-42bc-f6e2-2eaa1a718e24"
      },
      "execution_count": null,
      "outputs": [
        {
          "output_type": "stream",
          "name": "stdout",
          "text": [
            "private : 12 public : 23 public : 34\n"
          ]
        }
      ]
    },
    {
      "cell_type": "code",
      "source": [
        "class modf() :\n",
        "  def __init__(self , a , _b , __c) :\n",
        "    self.a = a\n",
        "    self._b = _b \n",
        "    self.__c = __c\n",
        "  \n",
        "  def show2(self) :\n",
        "    print( \"public : \" , self.a , \"private : \" , self.__c , \"protected \" , self._b)"
      ],
      "metadata": {
        "id": "IkMdCl80UB14"
      },
      "execution_count": null,
      "outputs": []
    },
    {
      "cell_type": "code",
      "source": [
        "obj3 = modf(23,34,45)"
      ],
      "metadata": {
        "id": "aDHIgMQAVb6o"
      },
      "execution_count": null,
      "outputs": []
    },
    {
      "cell_type": "code",
      "source": [
        "obj3.show2()"
      ],
      "metadata": {
        "colab": {
          "base_uri": "https://localhost:8080/"
        },
        "id": "ru0CoG-7VgZd",
        "outputId": "529d94cd-95f2-404a-f224-c38cdc28a56e"
      },
      "execution_count": null,
      "outputs": [
        {
          "output_type": "stream",
          "name": "stdout",
          "text": [
            "public :  23 private :  45 protected  34\n"
          ]
        }
      ]
    },
    {
      "cell_type": "code",
      "source": [
        "obj3._modf__c"
      ],
      "metadata": {
        "colab": {
          "base_uri": "https://localhost:8080/"
        },
        "id": "oyOtAIuyVlfm",
        "outputId": "0cf2be55-5a16-4b63-ec0e-ec55a3f67bfe"
      },
      "execution_count": null,
      "outputs": [
        {
          "output_type": "execute_result",
          "data": {
            "text/plain": [
              "45"
            ]
          },
          "metadata": {},
          "execution_count": 23
        }
      ]
    },
    {
      "cell_type": "code",
      "source": [
        "#  We can  not access the proteted members of the class by using this \n",
        "obj3._modf_b\n",
        "# See the following code to understand how to access it"
      ],
      "metadata": {
        "colab": {
          "base_uri": "https://localhost:8080/",
          "height": 200
        },
        "id": "wXcQNCf3WhIF",
        "outputId": "42a7fa00-c8ec-4338-f7fa-86c750faf0d6"
      },
      "execution_count": null,
      "outputs": [
        {
          "output_type": "error",
          "ename": "AttributeError",
          "evalue": "ignored",
          "traceback": [
            "\u001b[0;31m---------------------------------------------------------------------------\u001b[0m",
            "\u001b[0;31mAttributeError\u001b[0m                            Traceback (most recent call last)",
            "\u001b[0;32m<ipython-input-27-b827b530cc1e>\u001b[0m in \u001b[0;36m<module>\u001b[0;34m\u001b[0m\n\u001b[1;32m      1\u001b[0m \u001b[0;31m#  We can  not access the proteted members of the class by using this\u001b[0m\u001b[0;34m\u001b[0m\u001b[0;34m\u001b[0m\u001b[0;34m\u001b[0m\u001b[0m\n\u001b[0;32m----> 2\u001b[0;31m \u001b[0mobj3\u001b[0m\u001b[0;34m.\u001b[0m\u001b[0m_modf_b\u001b[0m\u001b[0;34m\u001b[0m\u001b[0;34m\u001b[0m\u001b[0m\n\u001b[0m\u001b[1;32m      3\u001b[0m \u001b[0;31m# See the following code to understand how to access it\u001b[0m\u001b[0;34m\u001b[0m\u001b[0;34m\u001b[0m\u001b[0;34m\u001b[0m\u001b[0m\n",
            "\u001b[0;31mAttributeError\u001b[0m: 'modf' object has no attribute '_modf_b'"
          ]
        }
      ]
    },
    {
      "cell_type": "code",
      "source": [
        "#  How to access the protected members outside the class\n",
        "obj3._b"
      ],
      "metadata": {
        "colab": {
          "base_uri": "https://localhost:8080/"
        },
        "id": "Kb5La1UyWpt-",
        "outputId": "406d39fd-f2bb-4945-da95-8a969243d046"
      },
      "execution_count": null,
      "outputs": [
        {
          "output_type": "execute_result",
          "data": {
            "text/plain": [
              "34"
            ]
          },
          "metadata": {},
          "execution_count": 26
        }
      ]
    },
    {
      "cell_type": "code",
      "source": [
        "class Tyres:\n",
        "    def __init__(self,branch,belted_bias,opt_pressure):\n",
        "        self.branch=branch\n",
        "        self.belted_bias=belted_bias\n",
        "        self.opt_pressure=opt_pressure\n",
        "        \n",
        "    def __str__(self):\n",
        "        return (\"Tyres: \\n \\tBranch\" + self.branch +\n",
        "               \"\\n \\t Belted-bias\" + str(self.belted_bias) +\n",
        "               \"\\n \\t optimal pressure\" + str(self.opt_pressure))\n",
        "class Engine:\n",
        "    def __init__(self,fuel_type,noise_level):\n",
        "        self.fuel_type=fuel_type\n",
        "        self.noise_level=noise_level\n",
        "        \n",
        "    def __str__(self):\n",
        "        return (\"Engine: \\n \\tFuel type\" + self.fuel_type +\n",
        "               \"\\n \\t Noise level:\" + str(self.noise_level))\n",
        "class Body:\n",
        "    \n",
        "    def __init__(self,size):\n",
        "        self.size=size\n",
        "        \n",
        "    def __str__(self):\n",
        "        return (\"Body:\\n \\t size\" + self.size)\n",
        "    \n",
        "class Car:\n",
        "    \n",
        "    def __init__(self,Tyres,Engine,Body):\n",
        "        \n",
        "        self.Tyres=Tyres\n",
        "        self.Engine=Engine\n",
        "        self.Body=Body\n",
        "        \n",
        "    def __str__(self):\n",
        "        return (str(self.Tyres) + \"\\n\" + str(self.Engine) + \"\\n\" + str(self.Body))\n",
        "        "
      ],
      "metadata": {
        "id": "WZ-n-xgYXjhu"
      },
      "execution_count": 104,
      "outputs": []
    },
    {
      "cell_type": "code",
      "source": [
        "t=Tyres('banaglore',True,2.0)\n",
        "e=Engine('Desel',3)\n",
        "b=Body('Medium')"
      ],
      "metadata": {
        "id": "Q5BssIt_cpON"
      },
      "execution_count": 105,
      "outputs": []
    },
    {
      "cell_type": "code",
      "source": [
        "c=Car(t,e,b)\n",
        "print(c)"
      ],
      "metadata": {
        "colab": {
          "base_uri": "https://localhost:8080/"
        },
        "id": "-YN04xJuc4pS",
        "outputId": "1cf0f7a1-4b4c-4261-950c-eeff50dac624"
      },
      "execution_count": 106,
      "outputs": [
        {
          "output_type": "stream",
          "name": "stdout",
          "text": [
            "Tyres: \n",
            " \tBranchbanaglore\n",
            " \t Belted-biasTrue\n",
            " \t optimal pressure2.0\n",
            "Engine: \n",
            " \tFuel typeDesel\n",
            " \t Noise level:3\n",
            "Body:\n",
            " \t sizeMedium\n"
          ]
        }
      ]
    },
    {
      "cell_type": "code",
      "source": [
        "print(t)"
      ],
      "metadata": {
        "colab": {
          "base_uri": "https://localhost:8080/"
        },
        "id": "ESF0r1VGcuhC",
        "outputId": "940928cc-be1f-4491-f6c7-29f8c3c20b96"
      },
      "execution_count": 107,
      "outputs": [
        {
          "output_type": "stream",
          "name": "stdout",
          "text": [
            "Tyres: \n",
            " \tBranchbanaglore\n",
            " \t Belted-biasTrue\n",
            " \t optimal pressure2.0\n"
          ]
        }
      ]
    },
    {
      "cell_type": "code",
      "source": [
        "class details :\n",
        "\n",
        "  def __init__(self , name , roll_no , id ) :\n",
        "    self.name = name \n",
        "    self.roll_no = roll_no\n",
        "    self.id = id \n",
        "  \n",
        "  def __str__(self) :\n",
        "    return ( \"info : \\nname  : \" + self.name + \"\\nroll_no  : \" + str(self.roll_no) + \"\\nid : \"+ str(self.id))\n",
        "\n",
        "class status : \n",
        "\n",
        "  def __init__(self , istate , job , salery ) :\n",
        "    self.istate = istate \n",
        "    self.job = job \n",
        "    self.salery = salery \n",
        "\n",
        "  def __str__(self) :\n",
        "    return ( \"Status : \\nproperty : \" + str(self.istate) +\"\\njob : \" + self.job +\"\\nsalery : \" + str(self.salery))\n",
        "\n",
        "class other_details :\n",
        "\n",
        "  def __init__(self , pan_no , adh_no , acc_no ) :\n",
        "    self.pan_no = pan_no\n",
        "    self.adh_no = adh_no\n",
        "    self.acc_no = acc_no\n",
        "  \n",
        "  def __str__(self) :\n",
        "    return (\"Other details : \\npan_no :\" + str(self.pan_no) + \"\\nadh_no : \" + str(self.adh_no) + \"\\nacc_no : \" + str(self.acc_no))\n",
        "\n",
        "class Car:\n",
        "    \n",
        "    def __init__(self,tyres,engine,body):\n",
        "        \n",
        "        self.tyres=tyres\n",
        "        self.engine=engine\n",
        "        self.body=body\n",
        "        \n",
        "    def __str__(self):\n",
        "        return (str(self.tyres) + \"\\n\" + str(self.engine) + \"\\n\" + str(self.body))\n",
        "        "
      ],
      "metadata": {
        "id": "TP8HxJ7aczaZ"
      },
      "execution_count": 120,
      "outputs": []
    },
    {
      "cell_type": "code",
      "source": [],
      "metadata": {
        "id": "UjDlJdC9X_Q7"
      },
      "execution_count": null,
      "outputs": []
    },
    {
      "cell_type": "code",
      "source": [
        "obj5 = details(\"mahendra_patil\" , 9999 , 0000 )\n",
        "obj6 = status(1000000 , \"datascientist\" , 200000)\n",
        "obj7 = other_details( 989989 , 6765666 , 6756454)"
      ],
      "metadata": {
        "id": "dz9QJVRreAJS"
      },
      "execution_count": 121,
      "outputs": []
    },
    {
      "cell_type": "code",
      "source": [
        "obj8 = Car( obj5 , obj6 , obj7 )"
      ],
      "metadata": {
        "id": "5_Ylm-uFeHR4"
      },
      "execution_count": 122,
      "outputs": []
    },
    {
      "cell_type": "code",
      "source": [
        "print(obj8)"
      ],
      "metadata": {
        "colab": {
          "base_uri": "https://localhost:8080/"
        },
        "id": "B0ISusBhTizS",
        "outputId": "0c008128-acf0-44ce-87c2-95721d06d7df"
      },
      "execution_count": 123,
      "outputs": [
        {
          "output_type": "stream",
          "name": "stdout",
          "text": [
            "info : \n",
            "name  : mahendra_patil\n",
            "roll_no  : 9999\n",
            "id : 0\n",
            "\tStatus : \n",
            "property : 1000000\n",
            "job : datascientist\n",
            "salery : 200000\n",
            "\tOther details : \n",
            "pan_no :989989\n",
            "adh_no : 6765666\n",
            "acc_no : 6756454\n"
          ]
        }
      ]
    },
    {
      "cell_type": "code",
      "source": [
        "\n"
      ],
      "metadata": {
        "id": "CiZcP_VhXvAH"
      },
      "execution_count": null,
      "outputs": []
    }
  ],
  "metadata": {
    "colab": {
      "provenance": []
    },
    "kernelspec": {
      "display_name": "Python 3",
      "name": "python3"
    },
    "language_info": {
      "name": "python"
    }
  },
  "nbformat": 4,
  "nbformat_minor": 0
}